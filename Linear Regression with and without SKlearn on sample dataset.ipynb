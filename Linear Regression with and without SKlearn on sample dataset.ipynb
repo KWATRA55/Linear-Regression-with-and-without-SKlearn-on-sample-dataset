{
 "cells": [
  {
   "cell_type": "code",
   "execution_count": 1,
   "source": [
    "# if we have an datapoints and the linear regression algo just creates the line or hyperplane to best fit the data by updating to the best weights.\r\n",
    "# lets try this without sklearn first.\r\n",
    "# when we have line equation of y= mx + c (  y = m0.x0 + m1.x1 + m2.x2 + --- mn.xn ( where m0 is 1))\r\n",
    "# the normal equation for finding the m that minimixes the cost function is : m = ((x^T).x)^-1 . (x^T).y where x^T is transpose of x\r\n",
    "# lets try to code this, firstly making dataset\r\n",
    "\r\n",
    "import pandas as pd\r\n",
    "import numpy as np"
   ],
   "outputs": [],
   "metadata": {}
  },
  {
   "cell_type": "code",
   "execution_count": 16,
   "source": [
    "x = 2* np.random.rand(100, 1) #(these are our random samples)\r\n",
    "y = 4 + 3*x + np.random.rand(100,1) #(this is in form y= mx +c, m=5, c=4, and np.random.rand(100,1) is added noise)"
   ],
   "outputs": [],
   "metadata": {}
  },
  {
   "cell_type": "code",
   "execution_count": 8,
   "source": [
    "# lets plot our data\r\n",
    "# we have to pass a line through the datapoints that would be the best fit\r\n",
    "\r\n",
    "import matplotlib.pyplot as plt\r\n",
    "plt.scatter(x,y)"
   ],
   "outputs": [
    {
     "output_type": "execute_result",
     "data": {
      "text/plain": [
       "<matplotlib.collections.PathCollection at 0x21fc2e6cfa0>"
      ]
     },
     "metadata": {},
     "execution_count": 8
    },
    {
     "output_type": "display_data",
     "data": {
      "image/png": "[encoded data removed]",
      "text/plain": [
       "<Figure size 432x288 with 1 Axes>"
      ]
     },
     "metadata": {
      "needs_background": "light"
     }
    }
   ],
   "metadata": {}
  },
  {
   "cell_type": "code",
   "execution_count": 12,
   "source": [
    "# lets compute m using normal equation\r\n",
    "x = np.c_[np.ones((100,1)), x] # add x0 = 1 to each instance\r\n",
    "best_weight = np.linalg.inv(x.T.dot(x)).dot(x.T).dot(y)\r\n",
    "best_weight"
   ],
   "outputs": [
    {
     "output_type": "execute_result",
     "data": {
      "text/plain": [
       "array([[4.50813045],\n",
       "       [2.98727671]])"
      ]
     },
     "metadata": {},
     "execution_count": 12
    }
   ],
   "metadata": {}
  },
  {
   "cell_type": "code",
   "execution_count": 14,
   "source": [
    "# we got the result for the equation, the best weights produced are -\r\n",
    "# 4.5(c) and 2.9(m) which is so close to our actual datapoints c = 4, m = 3\r\n",
    "# lets predict something\r\n",
    "\r\n",
    "x_new = np.array([[2], [3]])\r\n",
    "x_new = np.c_[np.ones((2,1)), x_new] # adding x0 = 1\r\n",
    "y_predict = x_new.dot(best_weight)\r\n",
    "y_predict"
   ],
   "outputs": [
    {
     "output_type": "execute_result",
     "data": {
      "text/plain": [
       "array([[10.48268386],\n",
       "       [13.46996057]])"
      ]
     },
     "metadata": {},
     "execution_count": 14
    }
   ],
   "metadata": {}
  },
  {
   "cell_type": "code",
   "execution_count": 19,
   "source": [
    "# doing the same thing with sklearn model\r\n",
    "\r\n",
    "\r\n",
    "x = 2* np.random.rand(100, 1) #(these are our random samples)\r\n",
    "y = 4 + 3*x + np.random.rand(100,1) #(this is in form y= mx +c, m=5, c=4, and np.random.rand(100,1) is added noise)\r\n",
    "\r\n",
    "from sklearn.linear_model import LinearRegression\r\n",
    "model = LinearRegression()\r\n",
    "model.fit(x,y)\r\n",
    "model.intercept_, model.coef_"
   ],
   "outputs": [
    {
     "output_type": "execute_result",
     "data": {
      "text/plain": [
       "(array([4.36881176]), array([[3.10202975]]))"
      ]
     },
     "metadata": {},
     "execution_count": 19
    }
   ],
   "metadata": {}
  },
  {
   "cell_type": "code",
   "execution_count": null,
   "source": [
    "# see, the results are so accurate by both methods..."
   ],
   "outputs": [],
   "metadata": {}
  }
 ],
 "metadata": {
  "orig_nbformat": 4,
  "language_info": {
   "name": "python",
   "version": "3.9.5",
   "mimetype": "text/x-python",
   "codemirror_mode": {
    "name": "ipython",
    "version": 3
   },
   "pygments_lexer": "ipython3",
   "nbconvert_exporter": "python",
   "file_extension": ".py"
  },
  "kernelspec": {
   "name": "python3",
   "display_name": "Python 3.9.5 64-bit"
  },
  "interpreter": {
   "hash": "c569cd2e17f62341e0f08a54f9a867c3c0d3a6f67454072d7de41a8b5dff8343"
  }
 },
 "nbformat": 4,
 "nbformat_minor": 2
}